{
 "metadata": {
  "name": ""
 },
 "nbformat": 3,
 "nbformat_minor": 0,
 "worksheets": [
  {
   "cells": [
    {
     "cell_type": "heading",
     "level": 1,
     "metadata": {},
     "source": [
      "Cache Simulation and Analysis"
     ]
    },
    {
     "cell_type": "heading",
     "level": 2,
     "metadata": {},
     "source": [
      "Gabriel West - s1365736"
     ]
    },
    {
     "cell_type": "markdown",
     "metadata": {},
     "source": [
      "###Introduction\n",
      "Cache performance is a crucial component in the overall health and speed of a processor. As processing speeds break away from memory access speeds, it is neccesary to create highly efficient caches physically close to the processor in order to keep computing speeds up."
     ]
    },
    {
     "cell_type": "markdown",
     "metadata": {},
     "source": [
      "###Abstract\n",
      "In order to compare the relative benefit of two important parameters in cache design (associativity and size), a python module has been created to simulate a single level uniprocessor cache. Miss rate is computed accross two stack traces ......."
     ]
    },
    {
     "cell_type": "markdown",
     "metadata": {},
     "source": [
      "###Results"
     ]
    },
    {
     "cell_type": "code",
     "collapsed": false,
     "input": [
      "from cache_sim.cache_sim import Cache, test_caches\n",
      "caches = test_caches()"
     ],
     "language": "python",
     "metadata": {},
     "outputs": [],
     "prompt_number": 27
    },
    {
     "cell_type": "code",
     "collapsed": false,
     "input": [
      "cache = cache_sim.Cache(sets=128, ways=1)\n",
      "cache.simulate('mcf_memref.out')"
     ],
     "language": "python",
     "metadata": {},
     "outputs": [
      {
       "metadata": {},
       "output_type": "pyout",
       "prompt_number": 28,
       "text": [
        "{'cache_size': 4096,\n",
        " 'read_missrate': 0.4414333919306291,\n",
        " 'sets': 128,\n",
        " 'total_missrate': 0.40330798555109765,\n",
        " 'trace_file': 'mcf_memref.out',\n",
        " 'ways': 1,\n",
        " 'write_missrate': 0.16977906521197156}"
       ]
      }
     ],
     "prompt_number": 28
    },
    {
     "cell_type": "code",
     "collapsed": false,
     "input": [],
     "language": "python",
     "metadata": {},
     "outputs": []
    }
   ],
   "metadata": {}
  }
 ]
}